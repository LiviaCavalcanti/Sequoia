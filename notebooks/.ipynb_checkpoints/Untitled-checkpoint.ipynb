{
 "cells": [
  {
   "cell_type": "code",
   "execution_count": 47,
   "metadata": {},
   "outputs": [],
   "source": [
    "import wandb\n",
    "api = wandb.Api()\n",
    "import wandb\n",
    "import numpy as np\n",
    "import pandas as pd\n",
    "from collections import defaultdict\n",
    "import matplotlib.pyplot as plt\n",
    "from sklearn import preprocessing\n",
    "%matplotlib inline"
   ]
  },
  {
   "cell_type": "code",
   "execution_count": 48,
   "metadata": {},
   "outputs": [],
   "source": [
    "#SSCL 0.2"
   ]
  },
  {
   "cell_type": "code",
   "execution_count": 49,
   "metadata": {},
   "outputs": [],
   "source": [
    "# Project is specified by <entity/project-name>\n",
    "runs = api.runs(\"oleksost/SSCL_test_20\")\n",
    "methods_names = ['sup','sup_ewc','ict', 'ict_ewc', 'simclr', 'simclr_ewc',\n",
    "                 'simclr_etached', 'simclr_ewc_detached', 'simclr_ict', 'simclr_ict_ewc']"
   ]
  },
  {
   "cell_type": "code",
   "execution_count": 50,
   "metadata": {},
   "outputs": [],
   "source": [
    "runs_names = defaultdict(list)\n",
    "for run in runs: \n",
    "    try:\n",
    "        runs_names[run.config['config']['run_name']].append(run)\n",
    "    except KeyError:\n",
    "        pass\n"
   ]
  },
  {
   "cell_type": "code",
   "execution_count": 51,
   "metadata": {},
   "outputs": [
    {
     "data": {
      "text/plain": [
       "defaultdict(list,\n",
       "            {'sup_ewc': [<Run oleksost/SSCL_test_20/wlz3bfr4 (finished)>,\n",
       "              <Run oleksost/SSCL_test_20/1vk1057q (finished)>,\n",
       "              <Run oleksost/SSCL_test_20/11alyhqx (finished)>,\n",
       "              <Run oleksost/SSCL_test_20/2iebp56u (failed)>,\n",
       "              <Run oleksost/SSCL_test_20/24qhejwl (failed)>,\n",
       "              <Run oleksost/SSCL_test_20/2o3j57vg (failed)>],\n",
       "             'simclr_ewc_detached': [<Run oleksost/SSCL_test_20/2g8szoti (running)>,\n",
       "              <Run oleksost/SSCL_test_20/3giy4v5w (running)>,\n",
       "              <Run oleksost/SSCL_test_20/370niace (running)>],\n",
       "             'simclr_etached': [<Run oleksost/SSCL_test_20/1d710tao (running)>,\n",
       "              <Run oleksost/SSCL_test_20/1ln48qzp (failed)>,\n",
       "              <Run oleksost/SSCL_test_20/aftaoeja (running)>],\n",
       "             'simclr_ict': [<Run oleksost/SSCL_test_20/3vpugl60 (finished)>,\n",
       "              <Run oleksost/SSCL_test_20/1k74b1mm (finished)>,\n",
       "              <Run oleksost/SSCL_test_20/396c8x33 (failed)>],\n",
       "             'simclr_ict_ewc': [<Run oleksost/SSCL_test_20/3iw22g72 (finished)>,\n",
       "              <Run oleksost/SSCL_test_20/345hxeva (finished)>,\n",
       "              <Run oleksost/SSCL_test_20/k19axe24 (finished)>],\n",
       "             'simclr_ewc': [<Run oleksost/SSCL_test_20/23d2zpo5 (finished)>,\n",
       "              <Run oleksost/SSCL_test_20/nxnfsh0o (finished)>,\n",
       "              <Run oleksost/SSCL_test_20/1g390ayj (finished)>],\n",
       "             'ict_ewc': [<Run oleksost/SSCL_test_20/3365k191 (finished)>,\n",
       "              <Run oleksost/SSCL_test_20/oaod5fi4 (finished)>,\n",
       "              <Run oleksost/SSCL_test_20/199n5d4a (finished)>],\n",
       "             'simclr': [<Run oleksost/SSCL_test_20/322aaeaj (finished)>,\n",
       "              <Run oleksost/SSCL_test_20/i2er6vf4 (finished)>,\n",
       "              <Run oleksost/SSCL_test_20/21h5f3xo (finished)>],\n",
       "             'ict': [<Run oleksost/SSCL_test_20/2uel3g3n (finished)>,\n",
       "              <Run oleksost/SSCL_test_20/38hb2ubl (finished)>,\n",
       "              <Run oleksost/SSCL_test_20/3qz9w6ce (finished)>],\n",
       "             'sup': [<Run oleksost/SSCL_test_20/27ebqcve (finished)>,\n",
       "              <Run oleksost/SSCL_test_20/16j25nba (finished)>,\n",
       "              <Run oleksost/SSCL_test_20/2g9hdsa6 (finished)>]})"
      ]
     },
     "execution_count": 51,
     "metadata": {},
     "output_type": "execute_result"
    }
   ],
   "source": [
    "runs_names"
   ]
  },
  {
   "cell_type": "code",
   "execution_count": null,
   "metadata": {},
   "outputs": [
    {
     "name": "stdout",
     "output_type": "stream",
     "text": [
      "sup_ewc\n",
      "0 0.4729999899864197\n",
      "1 0.41449999809265137\n",
      "2 0.3779999911785126\n",
      "3 0.3591249883174896\n",
      "4 0.35269999504089355\n",
      "0 0.4429999887943268\n",
      "1 0.37575000524520874\n",
      "2 0.35600000619888306\n",
      "3 0.33125001192092896\n",
      "4 0.33180001378059387\n",
      "0 0.4690000116825104\n"
     ]
    },
    {
     "name": "stderr",
     "output_type": "stream",
     "text": [
      "\u001b[34m\u001b[1mwandb\u001b[0m: Network error resolved after 0:00:10.738553, resuming normal operation.\n",
      "\u001b[34m\u001b[1mwandb\u001b[0m: Network error resolved after 0:00:12.682171, resuming normal operation.\n",
      "\u001b[34m\u001b[1mwandb\u001b[0m: Network error resolved after 0:00:19.899701, resuming normal operation.\n",
      "\u001b[34m\u001b[1mwandb\u001b[0m: Network error resolved after 0:00:21.991082, resuming normal operation.\n"
     ]
    }
   ],
   "source": [
    "runs_res = defaultdict()\n",
    "column = 'Cumulative/Test/metrics/supervised/accuracy'\n",
    "step = 'task/currently_learned_task'\n",
    "for k,runs in runs_names.items():\n",
    "    print(k)\n",
    "    res=[]\n",
    "    for run in runs:\n",
    "        history = run.scan_history()\n",
    "        for row in history: \n",
    "            if column in row.keys():\n",
    "                print(row[step],row[column])   \n",
    "                res.append([row[step],row[column]])\n",
    "    res = pd.DataFrame(res, columns=[step,column]).set_index(step)\n",
    "    res.reset_index(inplace=True)\n",
    "    res = res.groupby(step)[column].apply(list)\n",
    "    runs_res[k]=res\n",
    "    \n",
    "\n"
   ]
  },
  {
   "cell_type": "code",
   "execution_count": 64,
   "metadata": {},
   "outputs": [],
   "source": [
    "r = runs[0]"
   ]
  },
  {
   "cell_type": "code",
   "execution_count": 67,
   "metadata": {},
   "outputs": [
    {
     "name": "stdout",
     "output_type": "stream",
     "text": [
      "[0, 0.4729999899864197]\n",
      "[1, 0.41449999809265137]\n",
      "[2, 0.3779999911785126]\n",
      "[3, 0.3591249883174896]\n",
      "[4, 0.35269999504089355]\n"
     ]
    }
   ],
   "source": [
    "for row in r.scan_history():\n",
    "    if column in row.keys():\n",
    "                print([row['task/currently_learned_task'],row[column]])"
   ]
  },
  {
   "cell_type": "code",
   "execution_count": null,
   "metadata": {},
   "outputs": [],
   "source": []
  }
 ],
 "metadata": {
  "kernelspec": {
   "display_name": "PyCharm (falr)",
   "language": "python",
   "name": "pycharm-5e6e0d1b"
  },
  "language_info": {
   "codemirror_mode": {
    "name": "ipython",
    "version": 3
   },
   "file_extension": ".py",
   "mimetype": "text/x-python",
   "name": "python",
   "nbconvert_exporter": "python",
   "pygments_lexer": "ipython3",
   "version": "3.8.2"
  }
 },
 "nbformat": 4,
 "nbformat_minor": 2
}
